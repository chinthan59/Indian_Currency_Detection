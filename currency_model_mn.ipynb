{
 "cells": [
  {
   "cell_type": "code",
   "execution_count": null,
   "id": "cc726b96-57e6-4d23-a800-7732bc2e036a",
   "metadata": {},
   "outputs": [],
   "source": [
    "!pip install tensorflow"
   ]
  },
  {
   "cell_type": "code",
   "execution_count": null,
   "id": "9c2916be-92e8-494c-aa7d-03e42c5bc953",
   "metadata": {},
   "outputs": [],
   "source": [
    "import os\n",
    "import cv2\n",
    "import numpy as np\n",
    "import matplotlib.pyplot as plt\n",
    "import tensorflow as tf\n",
    "from tensorflow.keras.preprocessing.image import ImageDataGenerator\n",
    "from tensorflow.keras.applications import MobileNetV2\n",
    "from tensorflow.keras.models import Sequential\n",
    "from tensorflow.keras.layers import GlobalAveragePooling2D, Dense, Dropout\n",
    "from tensorflow.keras.callbacks import EarlyStopping, ModelCheckpoint"
   ]
  },
  {
   "cell_type": "code",
   "execution_count": null,
   "id": "40196cad-7947-4f90-95b2-7a45c7cbd260",
   "metadata": {},
   "outputs": [],
   "source": [
    "data_dir = '/content/drive/MyDrive/ColabNotebooks/BankNote_Detection/Indian_currency_dataset_v1/'\n",
    "img_size = 224\n",
    "\n",
    "train_dir = f'{data_dir}/training'\n",
    "val_dir = f'{data_dir}/validation'\n",
    "test_dir = f'{data_dir}/test'"
   ]
  },
  {
   "cell_type": "code",
   "execution_count": null,
   "id": "37f4c0e9-2039-4d52-b84e-635f951341e5",
   "metadata": {},
   "outputs": [],
   "source": [
    "## Step 3: Data Generators\n",
    "train_gen = ImageDataGenerator(\n",
    "    rescale=1./255,\n",
    "    rotation_range=15,\n",
    "    zoom_range=0.2,\n",
    "    horizontal_flip=True\n",
    ")\n",
    "\n",
    "val_gen = ImageDataGenerator(rescale=1./255)\n",
    "test_gen = ImageDataGenerator(rescale=1./255)\n",
    "\n",
    "train_data = train_gen.flow_from_directory(train_dir, target_size=(img_size, img_size),\n",
    "                                           class_mode='categorical', batch_size=32)\n",
    "val_data = val_gen.flow_from_directory(val_dir, target_size=(img_size, img_size),\n",
    "                                       class_mode='categorical', batch_size=32)\n",
    "test_data = test_gen.flow_from_directory(test_dir, target_size=(img_size, img_size),\n",
    "                                         class_mode='categorical', batch_size=32)\n",
    "\n",
    "num_classes = len(train_data.class_indices)"
   ]
  },
  {
   "cell_type": "code",
   "execution_count": null,
   "id": "a5474875-a67d-44af-8864-a3b79520a818",
   "metadata": {},
   "outputs": [],
   "source": [
    "## Step 4: Model with Transfer Learning\n",
    "base_model = MobileNetV2(input_shape=(img_size, img_size, 3), include_top=False, weights='imagenet')\n",
    "base_model.trainable = False\n",
    "\n",
    "model = Sequential([\n",
    "    base_model,\n",
    "    GlobalAveragePooling2D(),\n",
    "    Dropout(0.3),\n",
    "    Dense(128, activation='relu'),\n",
    "    Dropout(0.3),\n",
    "    Dense(num_classes, activation='softmax')\n",
    "])\n",
    "\n",
    "model.compile(optimizer='adam', loss='categorical_crossentropy', metrics=['accuracy'])"
   ]
  },
  {
   "cell_type": "code",
   "execution_count": null,
   "id": "52122c3e-4919-4df7-a26a-64664ef5faff",
   "metadata": {},
   "outputs": [],
   "source": [
    "## Step 5: Callbacks\n",
    "early_stop = EarlyStopping(monitor='val_loss', patience=3, restore_best_weights=True)\n",
    "checkpoint = ModelCheckpoint('best_model.h5', monitor='val_loss', save_best_only=True)"
   ]
  },
  {
   "cell_type": "code",
   "execution_count": null,
   "id": "05726f32-32c6-4185-bc35-fdb68218eda4",
   "metadata": {},
   "outputs": [],
   "source": [
    "## Step 6: Training\n",
    "history = model.fit(train_data, validation_data=val_data, epochs=15, callbacks=[early_stop, checkpoint])"
   ]
  },
  {
   "cell_type": "code",
   "execution_count": null,
   "id": "deada560-ac7f-4360-a383-36ac7f3ffe42",
   "metadata": {},
   "outputs": [],
   "source": [
    "## Step 7: Evaluation\n",
    "loss, acc = model.evaluate(test_data)\n",
    "print(f\"Test Accuracy: {acc*100:.2f}%\")"
   ]
  },
  {
   "cell_type": "code",
   "execution_count": null,
   "id": "550a9b9d-194a-438e-a64d-1eb31a7433ed",
   "metadata": {},
   "outputs": [],
   "source": [
    "## Step 8: Save model\n",
    "model.save(\"currency_model_mobilenetv2.h5\")"
   ]
  }
 ],
 "metadata": {
  "kernelspec": {
   "display_name": "Python 3 (ipykernel)",
   "language": "python",
   "name": "python3"
  },
  "language_info": {
   "codemirror_mode": {
    "name": "ipython",
    "version": 3
   },
   "file_extension": ".py",
   "mimetype": "text/x-python",
   "name": "python",
   "nbconvert_exporter": "python",
   "pygments_lexer": "ipython3",
   "version": "3.13.1"
  }
 },
 "nbformat": 4,
 "nbformat_minor": 5
}
